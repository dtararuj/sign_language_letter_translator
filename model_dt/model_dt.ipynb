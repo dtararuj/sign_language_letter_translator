{
 "cells": [
  {
   "cell_type": "code",
   "execution_count": 2,
   "id": "948bac2f",
   "metadata": {},
   "outputs": [],
   "source": [
    "import tensorflow as tf\n",
    "import numpy as np\n",
    "import matplotlib.pyplot as plt\n",
    "from sklearn.metrics import classification_report\n",
    "from tensorflow.keras import layers\n",
    "import datetime\n",
    "from sklearn.metrics import confusion_matrix, accuracy_score\n",
    "import pandas as pd\n",
    "import cv2\n",
    "import os"
   ]
  },
  {
   "cell_type": "code",
   "execution_count": 12,
   "id": "1a94cfe7",
   "metadata": {},
   "outputs": [],
   "source": [
    "path_parent =os.path.dirname(os. getcwd())\n",
    "os.chdir(path_parent)"
   ]
  },
  {
   "cell_type": "code",
   "execution_count": 13,
   "id": "696547e8",
   "metadata": {},
   "outputs": [
    {
     "name": "stdout",
     "output_type": "stream",
     "text": [
      "C:\\Users\\Dawid\\Desktop\\kurs\\jdszr4-animalsi\\gesty\\model_dt\n"
     ]
    }
   ],
   "source": [
    "from preprocessing.dane import *"
   ]
  },
  {
   "cell_type": "code",
   "execution_count": 14,
   "id": "0882043e",
   "metadata": {},
   "outputs": [],
   "source": [
    "#ustawienie wlasciwego ksztaltu danych wejsciowych\n",
    "X_train = X_train.reshape(-1,28,28,1)\n",
    "X_test = X_test.reshape(-1,28,28,1)"
   ]
  },
  {
   "cell_type": "code",
   "execution_count": 16,
   "id": "d25701c4",
   "metadata": {},
   "outputs": [],
   "source": [
    "#definicja tensoboard callback\n",
    "log_dir = \"logs\\\\\" + datetime.datetime.now().strftime(\"%Y%m%d-%H%M%S\")\n",
    "tensorboard_callback = tf.keras.callbacks.TensorBoard(log_dir=log_dir, histogram_freq=1)"
   ]
  },
  {
   "cell_type": "code",
   "execution_count": 17,
   "id": "46990f70",
   "metadata": {},
   "outputs": [
    {
     "data": {
      "text/plain": [
       "'logs\\\\20211029-184335'"
      ]
     },
     "execution_count": 17,
     "metadata": {},
     "output_type": "execute_result"
    }
   ],
   "source": [
    "log_dir"
   ]
  },
  {
   "cell_type": "code",
   "execution_count": 71,
   "id": "6dab98c8",
   "metadata": {},
   "outputs": [],
   "source": [
    "#definicja modelu\n",
    "\n",
    "def create_model(X, Y,filters, dropout: float, units, class_num, lr = 0.001, epochs = 20, batch = 256, plot = True  ):\n",
    "    \n",
    "    '''\n",
    "    X - our training dataset without labels,\n",
    "    Y - labels from our training dataset\n",
    "    filters - list of filters,\n",
    "    dropout - value, float, representing size of dropout after each convolution layer,\n",
    "    units - list of units in DenseLayer,\n",
    "    class_num - how many classes we have in our dataset\n",
    "    lr - learning rate used in optimizer \"Adam\", default 0.001,\n",
    "    epochs - number of epoch\n",
    "    batch - batch size, default 256\n",
    "    plot - if True then print plot\n",
    "    '''\n",
    "    model = tf.keras.Sequential()\n",
    "    \n",
    "    model.add(layers.InputLayer(input_shape= X.shape[1:]))\n",
    "    \n",
    "    for i, j in enumerate(filters):\n",
    "        model.add(layers.Conv2D(\n",
    "            filters = j,\n",
    "            kernel_size = (3,3),\n",
    "            strides = 1,\n",
    "            padding = 'same', \n",
    "            activation = 'relu',\n",
    "            input_shape = (-1,28,28,1)))  \n",
    "        \n",
    "        model.add(layers.MaxPool2D(\n",
    "            pool_size = 2,\n",
    "            strides = 2,\n",
    "            padding = 'same',\n",
    "            name = \"warstwaCNN\" + str(i)))\n",
    "    \n",
    "        model.add(layers.Dropout(dropout))\n",
    "        \n",
    "    model.add(layers.Flatten())\n",
    "    \n",
    "    for a,b in enumerate(units):\n",
    "        model.add(layers.Dense(\n",
    "            b,\n",
    "            activation = 'relu',\n",
    "            name = \"warstwa_gesta\" + str(a)))\n",
    "        \n",
    "        model.add(layers.Dropout(dropout))\n",
    "    \n",
    "    model.add(layers.Dense(class_num, name = 'wyjscie'))\n",
    "    model.add(layers.Softmax())\n",
    "    \n",
    "    print(model.summary())\n",
    "    \n",
    "                  \n",
    "    opt = tf.keras.optimizers.Adam(learning_rate=lr)\n",
    "                  \n",
    "    model.compile(\n",
    "            optimizer = opt,\n",
    "            loss = 'categorical_crossentropy',\n",
    "            metrics = ['accuracy'])\n",
    "        \n",
    "    results = model.fit(\n",
    "            X,\n",
    "            Y,\n",
    "            epochs = epochs,\n",
    "            batch_size = batch,\n",
    "            validation_split= 0.2,\n",
    "            callbacks = [tf.keras.callbacks.EarlyStopping(patience= 3),\n",
    "                        tensorboard_callback])\n",
    "    \n",
    "    if plot == True:\n",
    "        plt.figure(figsize = (15,7))\n",
    "        plt.plot(results.history['accuracy'], label = 'train')\n",
    "        plt.plot(results.history['val_accuracy'], label = 'val')\n",
    "        plt.show()\n",
    "    else:\n",
    "        None\n",
    "    \n",
    "    return model               "
   ]
  },
  {
   "cell_type": "code",
   "execution_count": 15,
   "id": "5de40e97",
   "metadata": {},
   "outputs": [
    {
     "name": "stdout",
     "output_type": "stream",
     "text": [
      "Model: \"sequential_5\"\n",
      "_________________________________________________________________\n",
      "Layer (type)                 Output Shape              Param #   \n",
      "=================================================================\n",
      "conv2d_15 (Conv2D)           (None, 28, 28, 32)        320       \n",
      "_________________________________________________________________\n",
      "warstwaCNN0 (MaxPooling2D)   (None, 14, 14, 32)        0         \n",
      "_________________________________________________________________\n",
      "dropout_17 (Dropout)         (None, 14, 14, 32)        0         \n",
      "_________________________________________________________________\n",
      "conv2d_16 (Conv2D)           (None, 14, 14, 64)        18496     \n",
      "_________________________________________________________________\n",
      "warstwaCNN1 (MaxPooling2D)   (None, 7, 7, 64)          0         \n",
      "_________________________________________________________________\n",
      "dropout_18 (Dropout)         (None, 7, 7, 64)          0         \n",
      "_________________________________________________________________\n",
      "flatten_5 (Flatten)          (None, 3136)              0         \n",
      "_________________________________________________________________\n",
      "warstwa_gesta0 (Dense)       (None, 256)               803072    \n",
      "_________________________________________________________________\n",
      "dropout_19 (Dropout)         (None, 256)               0         \n",
      "_________________________________________________________________\n",
      "warstwa_gesta1 (Dense)       (None, 64)                16448     \n",
      "_________________________________________________________________\n",
      "dropout_20 (Dropout)         (None, 64)                0         \n",
      "_________________________________________________________________\n",
      "wyjscie (Dense)              (None, 24)                1560      \n",
      "_________________________________________________________________\n",
      "softmax_5 (Softmax)          (None, 24)                0         \n",
      "=================================================================\n",
      "Total params: 839,896\n",
      "Trainable params: 839,896\n",
      "Non-trainable params: 0\n",
      "_________________________________________________________________\n",
      "None\n",
      "Epoch 1/20\n",
      "86/86 [==============================] - 57s 616ms/step - loss: 2.5721 - accuracy: 0.2383 - val_loss: 1.2471 - val_accuracy: 0.6514\n",
      "Epoch 2/20\n",
      "86/86 [==============================] - 55s 644ms/step - loss: 0.9634 - accuracy: 0.6852 - val_loss: 0.3836 - val_accuracy: 0.8977\n",
      "Epoch 3/20\n",
      "86/86 [==============================] - 49s 572ms/step - loss: 0.4664 - accuracy: 0.8419 - val_loss: 0.1695 - val_accuracy: 0.9590\n",
      "Epoch 4/20\n",
      "86/86 [==============================] - 43s 497ms/step - loss: 0.2458 - accuracy: 0.9216 - val_loss: 0.0656 - val_accuracy: 0.9907\n",
      "Epoch 5/20\n",
      "86/86 [==============================] - 42s 493ms/step - loss: 0.1455 - accuracy: 0.9552 - val_loss: 0.0371 - val_accuracy: 0.9971\n",
      "Epoch 6/20\n",
      "86/86 [==============================] - 47s 544ms/step - loss: 0.0956 - accuracy: 0.9705 - val_loss: 0.0135 - val_accuracy: 0.9996\n",
      "Epoch 7/20\n",
      "86/86 [==============================] - 48s 564ms/step - loss: 0.0679 - accuracy: 0.9801 - val_loss: 0.0079 - val_accuracy: 1.0000\n",
      "Epoch 8/20\n",
      "86/86 [==============================] - 161s 2s/step - loss: 0.0454 - accuracy: 0.9873 - val_loss: 0.0042 - val_accuracy: 1.0000\n",
      "Epoch 9/20\n",
      "86/86 [==============================] - 43s 507ms/step - loss: 0.0371 - accuracy: 0.9909 - val_loss: 0.0030 - val_accuracy: 1.0000\n",
      "Epoch 10/20\n",
      "86/86 [==============================] - 53s 616ms/step - loss: 0.0288 - accuracy: 0.9927 - val_loss: 0.0030 - val_accuracy: 0.9996\n",
      "Epoch 11/20\n",
      "86/86 [==============================] - 51s 591ms/step - loss: 0.0281 - accuracy: 0.9923 - val_loss: 0.0012 - val_accuracy: 1.0000\n",
      "Epoch 12/20\n",
      "86/86 [==============================] - 47s 543ms/step - loss: 0.0195 - accuracy: 0.9948 - val_loss: 8.3984e-04 - val_accuracy: 1.0000\n",
      "Epoch 13/20\n",
      "86/86 [==============================] - 42s 488ms/step - loss: 0.0174 - accuracy: 0.9952 - val_loss: 7.3849e-04 - val_accuracy: 1.0000\n",
      "Epoch 14/20\n",
      "86/86 [==============================] - 40s 465ms/step - loss: 0.0144 - accuracy: 0.9964 - val_loss: 5.1697e-04 - val_accuracy: 1.0000\n",
      "Epoch 15/20\n",
      "86/86 [==============================] - 46s 533ms/step - loss: 0.0112 - accuracy: 0.9977 - val_loss: 4.7925e-04 - val_accuracy: 1.0000\n",
      "Epoch 16/20\n",
      "86/86 [==============================] - 44s 509ms/step - loss: 0.0114 - accuracy: 0.9975 - val_loss: 5.2404e-04 - val_accuracy: 1.0000\n",
      "Epoch 17/20\n",
      "86/86 [==============================] - 43s 507ms/step - loss: 0.0123 - accuracy: 0.9962 - val_loss: 4.4759e-04 - val_accuracy: 1.0000\n",
      "Epoch 18/20\n",
      "86/86 [==============================] - 45s 529ms/step - loss: 0.0098 - accuracy: 0.9974 - val_loss: 5.3009e-04 - val_accuracy: 1.0000\n",
      "Epoch 19/20\n",
      "86/86 [==============================] - 43s 497ms/step - loss: 0.0114 - accuracy: 0.9967 - val_loss: 7.4008e-04 - val_accuracy: 1.0000\n",
      "Epoch 20/20\n",
      "86/86 [==============================] - 42s 492ms/step - loss: 0.0105 - accuracy: 0.9971 - val_loss: 7.7676e-04 - val_accuracy: 1.0000\n"
     ]
    },
    {
     "data": {
      "image/png": "[encoded data removed]",
      "text/plain": [
       "<Figure size 1080x504 with 1 Axes>"
      ]
     },
     "metadata": {
      "needs_background": "light"
     },
     "output_type": "display_data"
    }
   ],
   "source": [
    "#wywolanie modelu\n",
    "model1 = create_model(X_train, Y_train,[32, 64], 0.1,[256,64],24)"
   ]
  },
  {
   "cell_type": "markdown",
   "id": "2679b067",
   "metadata": {},
   "source": [
    "Jak widzimy nasz model osiagnał bardzo wysoka dokladnosc na zbiorze treningowym i walidacyjnym juz w 5 epoce.  \n",
    "Sprawdzmy jakie wyniki uzyskamy na zbiorze testowym"
   ]
  },
  {
   "cell_type": "code",
   "execution_count": 16,
   "id": "1f5a02c2",
   "metadata": {},
   "outputs": [
    {
     "name": "stdout",
     "output_type": "stream",
     "text": [
      "              precision    recall  f1-score   support\n",
      "\n",
      "           0       1.00      1.00      1.00       331\n",
      "           1       1.00      0.95      0.97       432\n",
      "           2       1.00      0.93      0.96       310\n",
      "           3       0.86      1.00      0.92       245\n",
      "           4       0.96      1.00      0.98       498\n",
      "           5       1.00      1.00      1.00       247\n",
      "           6       0.94      0.97      0.96       348\n",
      "           7       0.99      0.95      0.97       436\n",
      "           8       0.93      0.93      0.93       288\n",
      "           9       0.98      0.93      0.96       331\n",
      "          10       0.94      1.00      0.97       209\n",
      "          11       1.00      0.89      0.94       394\n",
      "          12       0.92      0.79      0.85       291\n",
      "          13       0.92      1.00      0.96       246\n",
      "          14       0.99      1.00      1.00       347\n",
      "          15       0.99      1.00      1.00       164\n",
      "          16       0.79      0.72      0.75       144\n",
      "          17       0.89      0.91      0.90       246\n",
      "          18       0.94      0.74      0.83       248\n",
      "          19       0.92      0.90      0.91       266\n",
      "          20       0.94      0.95      0.95       346\n",
      "          21       0.84      1.00      0.91       206\n",
      "          22       0.74      1.00      0.85       267\n",
      "          23       0.94      0.87      0.90       332\n",
      "\n",
      "    accuracy                           0.94      7172\n",
      "   macro avg       0.93      0.94      0.93      7172\n",
      "weighted avg       0.94      0.94      0.94      7172\n",
      "\n"
     ]
    }
   ],
   "source": [
    "#predykcja\n",
    "y_pred1 = model1.predict(X_test).argmax(axis = 1)\n",
    "\n",
    "print(classification_report(Y_test.argmax(axis = 1), y_pred1))"
   ]
  },
  {
   "cell_type": "code",
   "execution_count": 17,
   "id": "cf013cd4",
   "metadata": {},
   "outputs": [
    {
     "name": "stdout",
     "output_type": "stream",
     "text": [
      "model1 accuracy =  0.94\n"
     ]
    }
   ],
   "source": [
    "acc1 = accuracy_score(y_pred1, Y_test.argmax(axis = 1))\n",
    "print('model1 accuracy = ', round(acc1,2))"
   ]
  },
  {
   "cell_type": "code",
   "execution_count": 5,
   "id": "f89102a7",
   "metadata": {},
   "outputs": [
    {
     "name": "stdout",
     "output_type": "stream",
     "text": [
      "Model: \"sequential\"\n",
      "_________________________________________________________________\n",
      "Layer (type)                 Output Shape              Param #   \n",
      "=================================================================\n",
      "conv2d (Conv2D)              (None, 28, 28, 32)        320       \n",
      "_________________________________________________________________\n",
      "warstwaCNN0 (MaxPooling2D)   (None, 14, 14, 32)        0         \n",
      "_________________________________________________________________\n",
      "dropout (Dropout)            (None, 14, 14, 32)        0         \n",
      "_________________________________________________________________\n",
      "conv2d_1 (Conv2D)            (None, 14, 14, 64)        18496     \n",
      "_________________________________________________________________\n",
      "warstwaCNN1 (MaxPooling2D)   (None, 7, 7, 64)          0         \n",
      "_________________________________________________________________\n",
      "dropout_1 (Dropout)          (None, 7, 7, 64)          0         \n",
      "_________________________________________________________________\n",
      "conv2d_2 (Conv2D)            (None, 7, 7, 128)         73856     \n",
      "_________________________________________________________________\n",
      "warstwaCNN2 (MaxPooling2D)   (None, 4, 4, 128)         0         \n",
      "_________________________________________________________________\n",
      "dropout_2 (Dropout)          (None, 4, 4, 128)         0         \n",
      "_________________________________________________________________\n",
      "flatten (Flatten)            (None, 2048)              0         \n",
      "_________________________________________________________________\n",
      "warstwa_gesta0 (Dense)       (None, 256)               524544    \n",
      "_________________________________________________________________\n",
      "warstwa_gesta1 (Dense)       (None, 64)                16448     \n",
      "_________________________________________________________________\n",
      "wyjscie (Dense)              (None, 24)                1560      \n",
      "_________________________________________________________________\n",
      "softmax (Softmax)            (None, 24)                0         \n",
      "=================================================================\n",
      "Total params: 635,224\n",
      "Trainable params: 635,224\n",
      "Non-trainable params: 0\n",
      "_________________________________________________________________\n",
      "None\n",
      "Epoch 1/20\n",
      "86/86 [==============================] - 43s 493ms/step - loss: 2.6820 - accuracy: 0.2012 - val_loss: 1.5224 - val_accuracy: 0.5148\n",
      "Epoch 2/20\n",
      "86/86 [==============================] - 43s 495ms/step - loss: 0.9106 - accuracy: 0.6962 - val_loss: 0.3736 - val_accuracy: 0.8973\n",
      "Epoch 3/20\n",
      "86/86 [==============================] - 43s 499ms/step - loss: 0.2991 - accuracy: 0.9027 - val_loss: 0.1068 - val_accuracy: 0.9800\n",
      "Epoch 4/20\n",
      "86/86 [==============================] - 42s 485ms/step - loss: 0.1310 - accuracy: 0.9605 - val_loss: 0.0525 - val_accuracy: 0.9882\n",
      "Epoch 5/20\n",
      "86/86 [==============================] - 42s 494ms/step - loss: 0.0684 - accuracy: 0.9806 - val_loss: 0.0204 - val_accuracy: 0.9973\n",
      "Epoch 6/20\n",
      "86/86 [==============================] - 42s 490ms/step - loss: 0.0385 - accuracy: 0.9903 - val_loss: 0.0084 - val_accuracy: 0.9998\n",
      "Epoch 7/20\n",
      "86/86 [==============================] - 42s 492ms/step - loss: 0.0303 - accuracy: 0.9912 - val_loss: 0.0107 - val_accuracy: 0.9967\n",
      "Epoch 8/20\n",
      "86/86 [==============================] - 43s 503ms/step - loss: 0.0228 - accuracy: 0.9942 - val_loss: 0.0035 - val_accuracy: 1.0000\n",
      "Epoch 9/20\n",
      "86/86 [==============================] - 42s 488ms/step - loss: 0.0166 - accuracy: 0.9963 - val_loss: 0.0032 - val_accuracy: 0.9996\n",
      "Epoch 10/20\n",
      "86/86 [==============================] - 53s 612ms/step - loss: 0.0122 - accuracy: 0.9975 - val_loss: 0.0013 - val_accuracy: 1.0000\n",
      "Epoch 11/20\n",
      "86/86 [==============================] - 54s 630ms/step - loss: 0.0078 - accuracy: 0.9983 - val_loss: 9.2194e-04 - val_accuracy: 1.0000\n",
      "Epoch 12/20\n",
      "86/86 [==============================] - 52s 598ms/step - loss: 0.0076 - accuracy: 0.9985 - val_loss: 7.6250e-04 - val_accuracy: 1.0000\n",
      "Epoch 13/20\n",
      "86/86 [==============================] - 53s 613ms/step - loss: 0.0093 - accuracy: 0.9974 - val_loss: 6.8885e-04 - val_accuracy: 1.0000\n",
      "Epoch 14/20\n",
      "86/86 [==============================] - 51s 590ms/step - loss: 0.0078 - accuracy: 0.9979 - val_loss: 0.0014 - val_accuracy: 0.9998\n",
      "Epoch 15/20\n",
      "86/86 [==============================] - 50s 577ms/step - loss: 0.0066 - accuracy: 0.9986 - val_loss: 0.0016 - val_accuracy: 0.9996\n",
      "Epoch 16/20\n",
      "86/86 [==============================] - 59s 689ms/step - loss: 0.0039 - accuracy: 0.9991 - val_loss: 4.9379e-04 - val_accuracy: 1.0000\n",
      "Epoch 17/20\n",
      "86/86 [==============================] - 179s 2s/step - loss: 0.0052 - accuracy: 0.9990 - val_loss: 9.1630e-04 - val_accuracy: 1.0000\n",
      "Epoch 18/20\n",
      "86/86 [==============================] - 48s 557ms/step - loss: 0.0083 - accuracy: 0.9975 - val_loss: 0.0029 - val_accuracy: 0.9996\n",
      "Epoch 19/20\n",
      "86/86 [==============================] - 44s 510ms/step - loss: 0.0065 - accuracy: 0.9984 - val_loss: 6.5606e-04 - val_accuracy: 0.9998\n",
      "model2 accuracy =  0.95\n"
     ]
    }
   ],
   "source": [
    "#wywolanie modelu2\n",
    "model2 = create_model(X_train, Y_train,[32, 64,128], 0.1,[256,64],24, plot = False)\n",
    "\n",
    "#predykcja\n",
    "y_pred2 = model2.predict(X_test).argmax(axis = 1)\n",
    "\n",
    "acc2 = accuracy_score(y_pred2, Y_test.argmax(axis = 1))\n",
    "print('model2 accuracy = ', round(acc2,2))"
   ]
  },
  {
   "cell_type": "code",
   "execution_count": 7,
   "id": "6e42f2b6",
   "metadata": {},
   "outputs": [
    {
     "name": "stdout",
     "output_type": "stream",
     "text": [
      "model3 accuracy =  0.94\n"
     ]
    }
   ],
   "source": [
    "#wywolanie modelu3\n",
    "model3 = create_model(X_train, Y_train,[32, 64,128], 0.1,[512,256,64],24, plot = False)\n",
    "\n",
    "#predykcja\n",
    "y_pred3 = model3.predict(X_test).argmax(axis = 1)\n",
    "\n",
    "acc3 = accuracy_score(y_pred3, Y_test.argmax(axis = 1))\n",
    "print('model3 accuracy = ', round(acc3,2))"
   ]
  },
  {
   "cell_type": "markdown",
   "id": "20cbbefc",
   "metadata": {},
   "source": [
    "Jak widzimy, dodawanie kolejnych wartstw gestych nie poprawia wyniku."
   ]
  },
  {
   "cell_type": "code",
   "execution_count": 14,
   "id": "617ec4ff",
   "metadata": {},
   "outputs": [
    {
     "name": "stdout",
     "output_type": "stream",
     "text": [
      "Model: \"sequential_4\"\n",
      "_________________________________________________________________\n",
      "Layer (type)                 Output Shape              Param #   \n",
      "=================================================================\n",
      "conv2d_12 (Conv2D)           (None, 28, 28, 32)        320       \n",
      "_________________________________________________________________\n",
      "warstwaCNN0 (MaxPooling2D)   (None, 14, 14, 32)        0         \n",
      "_________________________________________________________________\n",
      "dropout_12 (Dropout)         (None, 14, 14, 32)        0         \n",
      "_________________________________________________________________\n",
      "conv2d_13 (Conv2D)           (None, 14, 14, 64)        18496     \n",
      "_________________________________________________________________\n",
      "warstwaCNN1 (MaxPooling2D)   (None, 7, 7, 64)          0         \n",
      "_________________________________________________________________\n",
      "dropout_13 (Dropout)         (None, 7, 7, 64)          0         \n",
      "_________________________________________________________________\n",
      "conv2d_14 (Conv2D)           (None, 7, 7, 128)         73856     \n",
      "_________________________________________________________________\n",
      "warstwaCNN2 (MaxPooling2D)   (None, 4, 4, 128)         0         \n",
      "_________________________________________________________________\n",
      "dropout_14 (Dropout)         (None, 4, 4, 128)         0         \n",
      "_________________________________________________________________\n",
      "flatten_4 (Flatten)          (None, 2048)              0         \n",
      "_________________________________________________________________\n",
      "warstwa_gesta0 (Dense)       (None, 256)               524544    \n",
      "_________________________________________________________________\n",
      "dropout_15 (Dropout)         (None, 256)               0         \n",
      "_________________________________________________________________\n",
      "warstwa_gesta1 (Dense)       (None, 64)                16448     \n",
      "_________________________________________________________________\n",
      "dropout_16 (Dropout)         (None, 64)                0         \n",
      "_________________________________________________________________\n",
      "wyjscie (Dense)              (None, 24)                1560      \n",
      "_________________________________________________________________\n",
      "softmax_4 (Softmax)          (None, 24)                0         \n",
      "=================================================================\n",
      "Total params: 635,224\n",
      "Trainable params: 635,224\n",
      "Non-trainable params: 0\n",
      "_________________________________________________________________\n",
      "None\n",
      "Epoch 1/20\n",
      "86/86 [==============================] - 52s 572ms/step - loss: 3.0546 - accuracy: 0.0822 - val_loss: 2.3350 - val_accuracy: 0.3182\n",
      "Epoch 2/20\n",
      "86/86 [==============================] - 48s 554ms/step - loss: 1.6012 - accuracy: 0.4741 - val_loss: 0.6648 - val_accuracy: 0.8161\n",
      "Epoch 3/20\n",
      "86/86 [==============================] - 47s 552ms/step - loss: 0.6961 - accuracy: 0.7587 - val_loss: 0.2496 - val_accuracy: 0.9350\n",
      "Epoch 4/20\n",
      "86/86 [==============================] - 49s 571ms/step - loss: 0.3803 - accuracy: 0.8691 - val_loss: 0.0917 - val_accuracy: 0.9805\n",
      "Epoch 5/20\n",
      "86/86 [==============================] - 48s 555ms/step - loss: 0.2304 - accuracy: 0.9218 - val_loss: 0.0368 - val_accuracy: 0.9958\n",
      "Epoch 6/20\n",
      "86/86 [==============================] - 48s 563ms/step - loss: 0.1559 - accuracy: 0.9493 - val_loss: 0.0163 - val_accuracy: 0.9995\n",
      "Epoch 7/20\n",
      "86/86 [==============================] - 48s 554ms/step - loss: 0.1100 - accuracy: 0.9633 - val_loss: 0.0081 - val_accuracy: 0.9993\n",
      "Epoch 8/20\n",
      "86/86 [==============================] - 47s 549ms/step - loss: 0.0799 - accuracy: 0.9749 - val_loss: 0.0046 - val_accuracy: 1.0000\n",
      "Epoch 9/20\n",
      "86/86 [==============================] - 49s 570ms/step - loss: 0.0636 - accuracy: 0.9805 - val_loss: 0.0025 - val_accuracy: 0.9998\n",
      "Epoch 10/20\n",
      "86/86 [==============================] - 47s 550ms/step - loss: 0.0523 - accuracy: 0.9836 - val_loss: 0.0017 - val_accuracy: 1.0000\n",
      "Epoch 11/20\n",
      "86/86 [==============================] - 48s 562ms/step - loss: 0.0391 - accuracy: 0.9885 - val_loss: 9.0672e-04 - val_accuracy: 1.0000\n",
      "Epoch 12/20\n",
      "86/86 [==============================] - 48s 556ms/step - loss: 0.0389 - accuracy: 0.9879 - val_loss: 9.6665e-04 - val_accuracy: 1.0000\n",
      "Epoch 13/20\n",
      "86/86 [==============================] - 47s 549ms/step - loss: 0.0330 - accuracy: 0.9894 - val_loss: 7.4315e-04 - val_accuracy: 1.0000\n",
      "Epoch 14/20\n",
      "86/86 [==============================] - 49s 568ms/step - loss: 0.0302 - accuracy: 0.9895 - val_loss: 6.5686e-04 - val_accuracy: 1.0000\n",
      "Epoch 15/20\n",
      "86/86 [==============================] - 47s 551ms/step - loss: 0.0255 - accuracy: 0.9922 - val_loss: 1.9336e-04 - val_accuracy: 1.0000\n",
      "Epoch 16/20\n",
      "86/86 [==============================] - 49s 566ms/step - loss: 0.0222 - accuracy: 0.9934 - val_loss: 4.1691e-04 - val_accuracy: 1.0000\n",
      "Epoch 17/20\n",
      "86/86 [==============================] - 48s 555ms/step - loss: 0.0171 - accuracy: 0.9950 - val_loss: 1.1949e-04 - val_accuracy: 1.0000\n",
      "Epoch 18/20\n",
      "86/86 [==============================] - 47s 548ms/step - loss: 0.0180 - accuracy: 0.9947 - val_loss: 4.1020e-04 - val_accuracy: 0.9998\n",
      "Epoch 19/20\n",
      "86/86 [==============================] - 49s 571ms/step - loss: 0.0170 - accuracy: 0.9953 - val_loss: 1.3470e-04 - val_accuracy: 1.0000\n",
      "Epoch 20/20\n",
      "86/86 [==============================] - 47s 550ms/step - loss: 0.0167 - accuracy: 0.9945 - val_loss: 3.1896e-04 - val_accuracy: 0.9998\n",
      "model3 accuracy =  0.98\n"
     ]
    }
   ],
   "source": [
    "#wywolanie modelu4\n",
    "model4 = create_model(X_train, Y_train,[32, 64, 128], 0.2,[256,64],24, plot = False)\n",
    "\n",
    "#predykcja\n",
    "y_pred4 = model4.predict(X_test).argmax(axis = 1)\n",
    "\n",
    "acc4 = accuracy_score(y_pred4, Y_test.argmax(axis = 1))\n",
    "print('model4 accuracy = ', round(acc4,2))"
   ]
  },
  {
   "cell_type": "markdown",
   "id": "910154b4",
   "metadata": {},
   "source": [
    "Zwiększając współczynnik dropoutu uzyskaliśmy całkiem dobry wynik na zbiorze testowym, 0.98"
   ]
  },
  {
   "cell_type": "code",
   "execution_count": 146,
   "id": "3133440e",
   "metadata": {},
   "outputs": [
    {
     "name": "stdout",
     "output_type": "stream",
     "text": [
      "Model: \"sequential_9\"\n",
      "_________________________________________________________________\n",
      "Layer (type)                 Output Shape              Param #   \n",
      "=================================================================\n",
      "conv2d_20 (Conv2D)           (None, 28, 28, 32)        320       \n",
      "_________________________________________________________________\n",
      "warstwaCNN0 (MaxPooling2D)   (None, 14, 14, 32)        0         \n",
      "_________________________________________________________________\n",
      "dropout_21 (Dropout)         (None, 14, 14, 32)        0         \n",
      "_________________________________________________________________\n",
      "conv2d_21 (Conv2D)           (None, 14, 14, 64)        18496     \n",
      "_________________________________________________________________\n",
      "warstwaCNN1 (MaxPooling2D)   (None, 7, 7, 64)          0         \n",
      "_________________________________________________________________\n",
      "dropout_22 (Dropout)         (None, 7, 7, 64)          0         \n",
      "_________________________________________________________________\n",
      "conv2d_22 (Conv2D)           (None, 7, 7, 128)         73856     \n",
      "_________________________________________________________________\n",
      "warstwaCNN2 (MaxPooling2D)   (None, 4, 4, 128)         0         \n",
      "_________________________________________________________________\n",
      "dropout_23 (Dropout)         (None, 4, 4, 128)         0         \n",
      "_________________________________________________________________\n",
      "flatten_6 (Flatten)          (None, 2048)              0         \n",
      "_________________________________________________________________\n",
      "warstwa_gesta0 (Dense)       (None, 256)               524544    \n",
      "_________________________________________________________________\n",
      "dropout_24 (Dropout)         (None, 256)               0         \n",
      "_________________________________________________________________\n",
      "warstwa_gesta1 (Dense)       (None, 64)                16448     \n",
      "_________________________________________________________________\n",
      "dropout_25 (Dropout)         (None, 64)                0         \n",
      "_________________________________________________________________\n",
      "wyjscie (Dense)              (None, 24)                1560      \n",
      "_________________________________________________________________\n",
      "softmax_6 (Softmax)          (None, 24)                0         \n",
      "=================================================================\n",
      "Total params: 635,224\n",
      "Trainable params: 635,224\n",
      "Non-trainable params: 0\n",
      "_________________________________________________________________\n",
      "None\n",
      "Epoch 1/20\n",
      "86/86 [==============================] - 55s 592ms/step - loss: 3.0183 - accuracy: 0.0898 - val_loss: 2.1527 - val_accuracy: 0.3682\n",
      "Epoch 2/20\n",
      "86/86 [==============================] - 48s 562ms/step - loss: 1.6574 - accuracy: 0.4469 - val_loss: 0.7564 - val_accuracy: 0.7787\n",
      "Epoch 3/20\n",
      "86/86 [==============================] - 49s 571ms/step - loss: 0.8628 - accuracy: 0.7006 - val_loss: 0.3024 - val_accuracy: 0.9177\n",
      "Epoch 4/20\n",
      "86/86 [==============================] - 49s 566ms/step - loss: 0.5186 - accuracy: 0.8187 - val_loss: 0.1396 - val_accuracy: 0.9678\n",
      "Epoch 5/20\n",
      "86/86 [==============================] - 48s 560ms/step - loss: 0.3465 - accuracy: 0.8798 - val_loss: 0.0635 - val_accuracy: 0.9900\n",
      "Epoch 6/20\n",
      "86/86 [==============================] - 48s 564ms/step - loss: 0.2461 - accuracy: 0.9155 - val_loss: 0.0368 - val_accuracy: 0.9969\n",
      "Epoch 7/20\n",
      "86/86 [==============================] - 48s 558ms/step - loss: 0.1807 - accuracy: 0.9396 - val_loss: 0.0142 - val_accuracy: 0.9991\n",
      "Epoch 8/20\n",
      "86/86 [==============================] - 48s 557ms/step - loss: 0.1423 - accuracy: 0.9522 - val_loss: 0.0088 - val_accuracy: 0.9987\n",
      "Epoch 9/20\n",
      "86/86 [==============================] - 48s 564ms/step - loss: 0.1238 - accuracy: 0.9592 - val_loss: 0.0072 - val_accuracy: 1.0000\n",
      "Epoch 10/20\n",
      "86/86 [==============================] - 48s 559ms/step - loss: 0.0999 - accuracy: 0.9677 - val_loss: 0.0028 - val_accuracy: 1.0000\n",
      "Epoch 11/20\n",
      "86/86 [==============================] - 48s 558ms/step - loss: 0.0799 - accuracy: 0.9738 - val_loss: 0.0021 - val_accuracy: 1.0000\n",
      "Epoch 12/20\n",
      "86/86 [==============================] - 48s 558ms/step - loss: 0.0707 - accuracy: 0.9779 - val_loss: 0.0016 - val_accuracy: 1.0000\n",
      "Epoch 13/20\n",
      "86/86 [==============================] - 48s 560ms/step - loss: 0.0592 - accuracy: 0.9814 - val_loss: 7.6074e-04 - val_accuracy: 1.0000\n",
      "Epoch 14/20\n",
      "86/86 [==============================] - 48s 558ms/step - loss: 0.0517 - accuracy: 0.9844 - val_loss: 7.5018e-04 - val_accuracy: 1.0000\n",
      "Epoch 15/20\n",
      "86/86 [==============================] - 48s 562ms/step - loss: 0.0485 - accuracy: 0.9843 - val_loss: 4.6530e-04 - val_accuracy: 1.0000\n",
      "Epoch 16/20\n",
      "86/86 [==============================] - 48s 563ms/step - loss: 0.0435 - accuracy: 0.9863 - val_loss: 3.2868e-04 - val_accuracy: 1.0000\n",
      "Epoch 17/20\n",
      "86/86 [==============================] - 48s 559ms/step - loss: 0.0397 - accuracy: 0.9881 - val_loss: 2.6520e-04 - val_accuracy: 1.0000\n",
      "Epoch 18/20\n",
      "86/86 [==============================] - 48s 558ms/step - loss: 0.0363 - accuracy: 0.9883 - val_loss: 1.5623e-04 - val_accuracy: 1.0000\n",
      "Epoch 19/20\n",
      "86/86 [==============================] - 48s 560ms/step - loss: 0.0322 - accuracy: 0.9893 - val_loss: 1.4508e-04 - val_accuracy: 1.0000\n",
      "Epoch 20/20\n",
      "86/86 [==============================] - 48s 559ms/step - loss: 0.0283 - accuracy: 0.9914 - val_loss: 9.2668e-05 - val_accuracy: 1.0000\n",
      "model5 accuracy =  0.97\n"
     ]
    }
   ],
   "source": [
    "#wywolanie modelu 5\n",
    "model5 = create_model(X_train, Y_train,[32, 64, 128], 0.3,[256,64],24, plot = False)\n",
    "\n",
    "#predykcja\n",
    "y_pred5 = model5.predict(X_test).argmax(axis = 1)\n",
    "\n",
    "acc5 = accuracy_score(y_pred5, Y_test.argmax(axis = 1))\n",
    "print('model5 accuracy = ', round(acc5,2))"
   ]
  },
  {
   "cell_type": "markdown",
   "id": "b1b33b3c",
   "metadata": {},
   "source": [
    "Kolejne podwyzszenie dropout nie poprawilo nam wyników, spróbujmy jesszcze zastosować residual blocks"
   ]
  },
  {
   "cell_type": "code",
   "execution_count": 181,
   "id": "837b1c3b",
   "metadata": {},
   "outputs": [
    {
     "name": "stdout",
     "output_type": "stream",
     "text": [
      "Model: \"sequential_10\"\n",
      "_________________________________________________________________\n",
      "Layer (type)                 Output Shape              Param #   \n",
      "=================================================================\n",
      "conv2d_23 (Conv2D)           (None, 28, 28, 32)        320       \n",
      "_________________________________________________________________\n",
      "warstwaCNN0 (MaxPooling2D)   (None, 14, 14, 32)        0         \n",
      "_________________________________________________________________\n",
      "dropout_26 (Dropout)         (None, 14, 14, 32)        0         \n",
      "_________________________________________________________________\n",
      "conv2d_24 (Conv2D)           (None, 14, 14, 64)        18496     \n",
      "_________________________________________________________________\n",
      "warstwaCNN1 (MaxPooling2D)   (None, 7, 7, 64)          0         \n",
      "_________________________________________________________________\n",
      "dropout_27 (Dropout)         (None, 7, 7, 64)          0         \n",
      "_________________________________________________________________\n",
      "conv2d_25 (Conv2D)           (None, 7, 7, 128)         73856     \n",
      "_________________________________________________________________\n",
      "warstwaCNN2 (MaxPooling2D)   (None, 4, 4, 128)         0         \n",
      "_________________________________________________________________\n",
      "dropout_28 (Dropout)         (None, 4, 4, 128)         0         \n",
      "_________________________________________________________________\n",
      "conv2d_26 (Conv2D)           (None, 4, 4, 256)         295168    \n",
      "_________________________________________________________________\n",
      "warstwaCNN3 (MaxPooling2D)   (None, 2, 2, 256)         0         \n",
      "_________________________________________________________________\n",
      "dropout_29 (Dropout)         (None, 2, 2, 256)         0         \n",
      "_________________________________________________________________\n",
      "flatten_7 (Flatten)          (None, 1024)              0         \n",
      "_________________________________________________________________\n",
      "warstwa_gesta0 (Dense)       (None, 512)               524800    \n",
      "_________________________________________________________________\n",
      "dropout_30 (Dropout)         (None, 512)               0         \n",
      "_________________________________________________________________\n",
      "warstwa_gesta1 (Dense)       (None, 128)               65664     \n",
      "_________________________________________________________________\n",
      "dropout_31 (Dropout)         (None, 128)               0         \n",
      "_________________________________________________________________\n",
      "wyjscie (Dense)              (None, 24)                3096      \n",
      "_________________________________________________________________\n",
      "softmax_7 (Softmax)          (None, 24)                0         \n",
      "=================================================================\n",
      "Total params: 981,400\n",
      "Trainable params: 981,400\n",
      "Non-trainable params: 0\n",
      "_________________________________________________________________\n",
      "None\n",
      "Epoch 1/20\n",
      "86/86 [==============================] - 82s 910ms/step - loss: 3.1481 - accuracy: 0.0601 - val_loss: 2.7183 - val_accuracy: 0.1916\n",
      "Epoch 2/20\n",
      "86/86 [==============================] - 78s 903ms/step - loss: 1.8137 - accuracy: 0.4048 - val_loss: 0.8147 - val_accuracy: 0.7412\n",
      "Epoch 3/20\n",
      "86/86 [==============================] - 78s 908ms/step - loss: 0.6740 - accuracy: 0.7623 - val_loss: 0.1745 - val_accuracy: 0.9607\n",
      "Epoch 4/20\n",
      "86/86 [==============================] - 77s 899ms/step - loss: 0.2870 - accuracy: 0.8987 - val_loss: 0.0599 - val_accuracy: 0.9896\n",
      "Epoch 5/20\n",
      "86/86 [==============================] - 78s 906ms/step - loss: 0.1525 - accuracy: 0.9488 - val_loss: 0.0216 - val_accuracy: 0.9971\n",
      "Epoch 6/20\n",
      "86/86 [==============================] - 77s 898ms/step - loss: 0.1039 - accuracy: 0.9651 - val_loss: 0.0136 - val_accuracy: 0.9978\n",
      "Epoch 7/20\n",
      "86/86 [==============================] - 78s 903ms/step - loss: 0.0619 - accuracy: 0.9805 - val_loss: 0.0027 - val_accuracy: 0.9998\n",
      "Epoch 8/20\n",
      "86/86 [==============================] - 78s 904ms/step - loss: 0.0387 - accuracy: 0.9877 - val_loss: 9.2916e-04 - val_accuracy: 1.0000\n",
      "Epoch 9/20\n",
      "86/86 [==============================] - 77s 895ms/step - loss: 0.0324 - accuracy: 0.9900 - val_loss: 9.0861e-04 - val_accuracy: 1.0000\n",
      "Epoch 10/20\n",
      "86/86 [==============================] - 77s 898ms/step - loss: 0.0250 - accuracy: 0.9927 - val_loss: 4.8946e-04 - val_accuracy: 1.0000\n",
      "Epoch 11/20\n",
      "86/86 [==============================] - 78s 909ms/step - loss: 0.0226 - accuracy: 0.9930 - val_loss: 2.8843e-04 - val_accuracy: 1.0000\n",
      "Epoch 12/20\n",
      "86/86 [==============================] - 77s 898ms/step - loss: 0.0177 - accuracy: 0.9944 - val_loss: 4.3413e-04 - val_accuracy: 1.0000\n",
      "Epoch 13/20\n",
      "86/86 [==============================] - 78s 906ms/step - loss: 0.0185 - accuracy: 0.9944 - val_loss: 5.3518e-04 - val_accuracy: 1.0000\n",
      "Epoch 14/20\n",
      "86/86 [==============================] - 79s 915ms/step - loss: 0.0186 - accuracy: 0.9939 - val_loss: 2.6834e-04 - val_accuracy: 1.0000\n",
      "Epoch 15/20\n",
      "86/86 [==============================] - 77s 900ms/step - loss: 0.0148 - accuracy: 0.9958 - val_loss: 9.4990e-05 - val_accuracy: 1.0000\n",
      "Epoch 16/20\n",
      "86/86 [==============================] - 78s 911ms/step - loss: 0.0167 - accuracy: 0.9949 - val_loss: 2.3513e-04 - val_accuracy: 1.0000\n",
      "Epoch 17/20\n",
      "86/86 [==============================] - 77s 897ms/step - loss: 0.0107 - accuracy: 0.9969 - val_loss: 1.0572e-04 - val_accuracy: 1.0000\n",
      "Epoch 18/20\n",
      "86/86 [==============================] - 78s 902ms/step - loss: 0.0151 - accuracy: 0.9955 - val_loss: 1.8619e-04 - val_accuracy: 1.0000\n",
      "model6 accuracy =  0.97\n"
     ]
    }
   ],
   "source": [
    "#wywolanie modelu 6\n",
    "model6 = create_model(X_train, Y_train,[32, 64, 128 ,256], 0.2,[512,128],24, plot = False)\n",
    "\n",
    "#predykcja\n",
    "y_pred6 = model6.predict(X_test).argmax(axis = 1)\n",
    "\n",
    "acc6 = accuracy_score(y_pred6, Y_test.argmax(axis = 1))\n",
    "print('model6 accuracy = ', round(acc6,2))"
   ]
  },
  {
   "cell_type": "markdown",
   "id": "114b8cb3",
   "metadata": {},
   "source": [
    "Dodając kolejną warstwe Conv2D nasz model nie poprawia dokładnosci, w kolejnym kroku sprobujmy wykorzystać metodę residual blocks"
   ]
  },
  {
   "cell_type": "code",
   "execution_count": 227,
   "id": "b22a68c8",
   "metadata": {},
   "outputs": [],
   "source": [
    "#definicja residual block:\n",
    "\n",
    "def res_block(input_, filters):\n",
    "    for i, j in enumerate(filters):\n",
    "        if i ==0:\n",
    "            x_1 = tf.keras.layers.Conv2D(filters= j, kernel_size = (3,3), padding = 'same')(input_)\n",
    "            x_1 = tf.keras.layers.ReLU()(x_1)\n",
    "            x_1 = tf.keras.layers.BatchNormalization()(x_1)\n",
    "            x_2 = tf.keras.layers.Conv2D(filters=j, kernel_size=(3,3), padding=\"same\")(x_1)\n",
    "        else:\n",
    "            x_1 = tf.keras.layers.Conv2D(filters=j, kernel_size = (3,3), padding = 'same')(x_1)\n",
    "            x_1 = tf.keras.layers.ReLU()(x_1)\n",
    "            x_1 = tf.keras.layers.BatchNormalization()(x_1)\n",
    "            x_2 = tf.keras.layers.Conv2D(filters=j, kernel_size=(3,3), padding=\"same\")(x_1)  \n",
    "    \n",
    "    output = tf.keras.layers.Add()([input_, x_2])\n",
    "    output = tf.keras.layers.ReLU()(output)\n",
    "    output = tf.keras.layers.BatchNormalization()(output)\n",
    "    \n",
    "    return output"
   ]
  },
  {
   "cell_type": "code",
   "execution_count": 228,
   "id": "890e6f1b",
   "metadata": {},
   "outputs": [],
   "source": [
    "#konstrukcja modelu \n",
    "input_shape = (28,28,1)\n",
    "\n",
    "input_layer = tf.keras.Input(shape=input_shape, dtype=tf.float32)\n",
    "\n",
    "resblock = res_block(input_layer, [32,64])\n",
    "\n",
    "avg_pool = tf.keras.layers.GlobalAveragePooling2D()(resblock)\n",
    "\n",
    "droput = tf.keras.layers.Dropout(0.2)(avg_pool)\n",
    "\n",
    "out = tf.keras.layers.Dense(24)(droput)\n",
    "out = tf.keras.layers.Softmax()(out)\n",
    "\n",
    "model7 = tf.keras.Model(\n",
    "    inputs = input_layer,\n",
    "    outputs = out,\n",
    "    name=\"model_with_residual_block\"\n",
    ")\n"
   ]
  },
  {
   "cell_type": "code",
   "execution_count": 229,
   "id": "3b1d7b2e",
   "metadata": {},
   "outputs": [
    {
     "name": "stdout",
     "output_type": "stream",
     "text": [
      "Model: \"model_with_residual_block\"\n",
      "__________________________________________________________________________________________________\n",
      "Layer (type)                    Output Shape         Param #     Connected to                     \n",
      "==================================================================================================\n",
      "input_27 (InputLayer)           [(None, 28, 28, 1)]  0                                            \n",
      "__________________________________________________________________________________________________\n",
      "conv2d_72 (Conv2D)              (None, 28, 28, 32)   320         input_27[0][0]                   \n",
      "__________________________________________________________________________________________________\n",
      "re_lu_38 (ReLU)                 (None, 28, 28, 32)   0           conv2d_72[0][0]                  \n",
      "__________________________________________________________________________________________________\n",
      "batch_normalization_39 (BatchNo (None, 28, 28, 32)   128         re_lu_38[0][0]                   \n",
      "__________________________________________________________________________________________________\n",
      "conv2d_74 (Conv2D)              (None, 28, 28, 64)   18496       batch_normalization_39[0][0]     \n",
      "__________________________________________________________________________________________________\n",
      "re_lu_39 (ReLU)                 (None, 28, 28, 64)   0           conv2d_74[0][0]                  \n",
      "__________________________________________________________________________________________________\n",
      "batch_normalization_40 (BatchNo (None, 28, 28, 64)   256         re_lu_39[0][0]                   \n",
      "__________________________________________________________________________________________________\n",
      "conv2d_75 (Conv2D)              (None, 28, 28, 64)   36928       batch_normalization_40[0][0]     \n",
      "__________________________________________________________________________________________________\n",
      "add_12 (Add)                    (None, 28, 28, 64)   0           input_27[0][0]                   \n",
      "                                                                 conv2d_75[0][0]                  \n",
      "__________________________________________________________________________________________________\n",
      "re_lu_40 (ReLU)                 (None, 28, 28, 64)   0           add_12[0][0]                     \n",
      "__________________________________________________________________________________________________\n",
      "batch_normalization_41 (BatchNo (None, 28, 28, 64)   256         re_lu_40[0][0]                   \n",
      "__________________________________________________________________________________________________\n",
      "global_average_pooling2d_3 (Glo (None, 64)           0           batch_normalization_41[0][0]     \n",
      "__________________________________________________________________________________________________\n",
      "dropout_35 (Dropout)            (None, 64)           0           global_average_pooling2d_3[0][0] \n",
      "__________________________________________________________________________________________________\n",
      "dense_3 (Dense)                 (None, 24)           1560        dropout_35[0][0]                 \n",
      "__________________________________________________________________________________________________\n",
      "softmax_11 (Softmax)            (None, 24)           0           dense_3[0][0]                    \n",
      "==================================================================================================\n",
      "Total params: 57,944\n",
      "Trainable params: 57,624\n",
      "Non-trainable params: 320\n",
      "__________________________________________________________________________________________________\n"
     ]
    }
   ],
   "source": [
    "model7.summary()"
   ]
  },
  {
   "cell_type": "code",
   "execution_count": 230,
   "id": "38b29dea",
   "metadata": {},
   "outputs": [
    {
     "name": "stdout",
     "output_type": "stream",
     "text": [
      "Epoch 1/30\n",
      "687/687 [==============================] - 219s 313ms/step - loss: 1.7097 - accuracy: 0.5227 - val_loss: 3.7878 - val_accuracy: 0.1674\n",
      "Epoch 2/30\n",
      "687/687 [==============================] - 215s 313ms/step - loss: 0.5949 - accuracy: 0.8615 - val_loss: 1.4017 - val_accuracy: 0.5851\n",
      "Epoch 3/30\n",
      "687/687 [==============================] - 215s 314ms/step - loss: 0.2637 - accuracy: 0.9512 - val_loss: 2.4634 - val_accuracy: 0.4782\n",
      "Epoch 4/30\n",
      "687/687 [==============================] - 221s 321ms/step - loss: 0.1326 - accuracy: 0.9807 - val_loss: 0.1819 - val_accuracy: 0.9536\n",
      "Epoch 5/30\n",
      "687/687 [==============================] - 228s 332ms/step - loss: 0.0795 - accuracy: 0.9893 - val_loss: 0.1536 - val_accuracy: 0.9563\n",
      "Epoch 6/30\n",
      "687/687 [==============================] - 244s 355ms/step - loss: 0.0448 - accuracy: 0.9960 - val_loss: 0.7272 - val_accuracy: 0.7835\n",
      "Epoch 7/30\n",
      "687/687 [==============================] - 216s 315ms/step - loss: 0.0475 - accuracy: 0.9924 - val_loss: 1.4104 - val_accuracy: 0.6742\n",
      "Epoch 8/30\n",
      "687/687 [==============================] - 216s 314ms/step - loss: 0.0278 - accuracy: 0.9961 - val_loss: 0.0571 - val_accuracy: 0.9876\n",
      "Epoch 9/30\n",
      "687/687 [==============================] - 216s 314ms/step - loss: 0.0335 - accuracy: 0.9938 - val_loss: 0.1228 - val_accuracy: 0.9594\n",
      "Epoch 10/30\n",
      "687/687 [==============================] - 216s 315ms/step - loss: 0.0181 - accuracy: 0.9974 - val_loss: 0.2276 - val_accuracy: 0.9206\n",
      "Epoch 11/30\n",
      "687/687 [==============================] - 215s 314ms/step - loss: 0.0218 - accuracy: 0.9957 - val_loss: 0.2839 - val_accuracy: 0.9033\n"
     ]
    }
   ],
   "source": [
    "#trening i walidacja\n",
    "\n",
    "model7.compile(\n",
    "    optimizer='Adam',\n",
    "    loss=  'categorical_crossentropy',\n",
    "    metrics=[\"accuracy\"]\n",
    ")\n",
    "\n",
    "epochs = 30\n",
    "patience = 3\n",
    "history = model7.fit(\n",
    "    X_train, \n",
    "    Y_train,\n",
    "    epochs=epochs,\n",
    "    validation_split=0.2,\n",
    "    callbacks=[\n",
    "        tf.keras.callbacks.EarlyStopping(patience=patience)\n",
    "    ]\n",
    ")\n"
   ]
  },
  {
   "cell_type": "code",
   "execution_count": 231,
   "id": "a4ca15db",
   "metadata": {},
   "outputs": [
    {
     "name": "stdout",
     "output_type": "stream",
     "text": [
      "model7 accuracy =  0.86\n"
     ]
    }
   ],
   "source": [
    "#predykcja\n",
    "y_pred7 = model7.predict(X_test).argmax(axis = 1)\n",
    "\n",
    "acc7 = accuracy_score(y_pred7, Y_test.argmax(axis = 1))\n",
    "print('model7 accuracy = ', round(acc7,2))"
   ]
  },
  {
   "cell_type": "markdown",
   "id": "9cd78655",
   "metadata": {},
   "source": [
    "Nasz model nie poprawił swojej dokładnosci przy zastosowaniu residuals block"
   ]
  },
  {
   "cell_type": "markdown",
   "id": "b158ba04",
   "metadata": {},
   "source": [
    "**Augmentacja danych**"
   ]
  },
  {
   "cell_type": "code",
   "execution_count": 128,
   "id": "6e3998b8",
   "metadata": {},
   "outputs": [],
   "source": [
    "# poszerzmy nasz zbior o augmentacje\n",
    "## dodajmy nowe obserwacje obrócone w poziomie \n",
    "\n",
    "data_augmentation = tf.keras.Sequential([\n",
    "  layers.RandomFlip(\"horizontal_and_vertical\")\n",
    "])\n",
    "\n",
    "data_augmentation1 = tf.keras.Sequential([\n",
    "  layers.RandomRotation(0.5),\n",
    "  layers.RandomFlip(\"horizontal_and_vertical\")\n",
    "])\n",
    "\n",
    "augmentation =  lambda x, y: (data_augmentation(x, training=True), y)\n",
    "augmentation1 =  lambda x, y: (data_augmentation1(x, training=True), y)\n",
    "\n",
    "AUG = augmentation(X_train,Y_train)\n",
    "AUG1 = augmentation1(X_train,Y_train)"
   ]
  },
  {
   "cell_type": "code",
   "execution_count": 129,
   "id": "657963af",
   "metadata": {},
   "outputs": [],
   "source": [
    "#przekonwertujmy to do array\n",
    "X_train_1 = AUG[0]\n",
    "Y_train_1 = AUG[1]\n",
    "\n",
    "X_train_2 = AUG1[0]\n",
    "Y_train_2 = AUG1[1]\n",
    "\n",
    "# połaczmy z naszym zbiorem X_train i Y_train"
   ]
  },
  {
   "cell_type": "code",
   "execution_count": 130,
   "id": "d971ee1b",
   "metadata": {},
   "outputs": [],
   "source": [
    "X_train_aug = np.vstack([X_train, X_train_1,X_train_2])\n",
    "Y_train_aug =np.vstack([Y_train, Y_train_1, Y_train_2])"
   ]
  },
  {
   "cell_type": "markdown",
   "id": "8134c7ab",
   "metadata": {},
   "source": [
    "**Wywołanie modelu na danych z augmentacja**"
   ]
  },
  {
   "cell_type": "code",
   "execution_count": 137,
   "id": "dd354dc3",
   "metadata": {},
   "outputs": [
    {
     "name": "stdout",
     "output_type": "stream",
     "text": [
      "Model: \"sequential_19\"\n",
      "_________________________________________________________________\n",
      "Layer (type)                 Output Shape              Param #   \n",
      "=================================================================\n",
      "conv2d_24 (Conv2D)           (None, 28, 28, 32)        320       \n",
      "_________________________________________________________________\n",
      "warstwaCNN0 (MaxPooling2D)   (None, 14, 14, 32)        0         \n",
      "_________________________________________________________________\n",
      "dropout_40 (Dropout)         (None, 14, 14, 32)        0         \n",
      "_________________________________________________________________\n",
      "conv2d_25 (Conv2D)           (None, 14, 14, 64)        18496     \n",
      "_________________________________________________________________\n",
      "warstwaCNN1 (MaxPooling2D)   (None, 7, 7, 64)          0         \n",
      "_________________________________________________________________\n",
      "dropout_41 (Dropout)         (None, 7, 7, 64)          0         \n",
      "_________________________________________________________________\n",
      "conv2d_26 (Conv2D)           (None, 7, 7, 128)         73856     \n",
      "_________________________________________________________________\n",
      "warstwaCNN2 (MaxPooling2D)   (None, 4, 4, 128)         0         \n",
      "_________________________________________________________________\n",
      "dropout_42 (Dropout)         (None, 4, 4, 128)         0         \n",
      "_________________________________________________________________\n",
      "flatten_8 (Flatten)          (None, 2048)              0         \n",
      "_________________________________________________________________\n",
      "warstwa_gesta0 (Dense)       (None, 256)               524544    \n",
      "_________________________________________________________________\n",
      "dropout_43 (Dropout)         (None, 256)               0         \n",
      "_________________________________________________________________\n",
      "warstwa_gesta1 (Dense)       (None, 64)                16448     \n",
      "_________________________________________________________________\n",
      "dropout_44 (Dropout)         (None, 64)                0         \n",
      "_________________________________________________________________\n",
      "wyjscie (Dense)              (None, 24)                1560      \n",
      "_________________________________________________________________\n",
      "softmax_8 (Softmax)          (None, 24)                0         \n",
      "=================================================================\n",
      "Total params: 635,224\n",
      "Trainable params: 635,224\n",
      "Non-trainable params: 0\n",
      "_________________________________________________________________\n",
      "None\n",
      "Epoch 1/20\n",
      "86/86 [==============================] - 57s 654ms/step - loss: 3.1794 - accuracy: 0.0473 - val_loss: 3.1762 - val_accuracy: 0.0461\n",
      "Epoch 2/20\n",
      "86/86 [==============================] - 49s 570ms/step - loss: 3.1614 - accuracy: 0.0587 - val_loss: 3.1288 - val_accuracy: 0.1038\n",
      "Epoch 3/20\n",
      "86/86 [==============================] - 60s 695ms/step - loss: 2.7156 - accuracy: 0.1725 - val_loss: 2.0200 - val_accuracy: 0.4272\n",
      "Epoch 4/20\n",
      "86/86 [==============================] - 56s 649ms/step - loss: 1.9319 - accuracy: 0.3592 - val_loss: 1.1335 - val_accuracy: 0.6922\n",
      "Epoch 5/20\n",
      "86/86 [==============================] - 56s 647ms/step - loss: 1.3601 - accuracy: 0.5253 - val_loss: 0.6939 - val_accuracy: 0.8390\n",
      "Epoch 6/20\n",
      "86/86 [==============================] - 58s 671ms/step - loss: 1.0219 - accuracy: 0.6433 - val_loss: 0.4281 - val_accuracy: 0.9177\n",
      "Epoch 7/20\n",
      "86/86 [==============================] - 52s 607ms/step - loss: 0.8237 - accuracy: 0.7104 - val_loss: 0.3170 - val_accuracy: 0.9301\n",
      "Epoch 8/20\n",
      "86/86 [==============================] - 55s 644ms/step - loss: 0.6944 - accuracy: 0.7581 - val_loss: 0.2358 - val_accuracy: 0.9510\n",
      "Epoch 9/20\n",
      "86/86 [==============================] - 53s 616ms/step - loss: 0.5864 - accuracy: 0.7952 - val_loss: 0.1725 - val_accuracy: 0.9634\n",
      "Epoch 10/20\n",
      "86/86 [==============================] - 57s 664ms/step - loss: 0.5177 - accuracy: 0.8217 - val_loss: 0.1506 - val_accuracy: 0.9707\n",
      "Epoch 11/20\n",
      "86/86 [==============================] - 49s 571ms/step - loss: 0.4549 - accuracy: 0.8447 - val_loss: 0.1158 - val_accuracy: 0.9756\n",
      "Epoch 12/20\n",
      "86/86 [==============================] - 49s 567ms/step - loss: 0.4112 - accuracy: 0.8590 - val_loss: 0.0940 - val_accuracy: 0.9825\n",
      "Epoch 13/20\n",
      "86/86 [==============================] - 47s 552ms/step - loss: 0.3723 - accuracy: 0.8732 - val_loss: 0.0800 - val_accuracy: 0.9842\n",
      "Epoch 14/20\n",
      "86/86 [==============================] - 44s 515ms/step - loss: 0.3535 - accuracy: 0.8823 - val_loss: 0.0662 - val_accuracy: 0.9883\n",
      "Epoch 15/20\n",
      "86/86 [==============================] - 45s 529ms/step - loss: 0.3218 - accuracy: 0.8943 - val_loss: 0.0510 - val_accuracy: 0.9911\n",
      "Epoch 16/20\n",
      "86/86 [==============================] - 48s 562ms/step - loss: 0.2916 - accuracy: 0.9014 - val_loss: 0.0391 - val_accuracy: 0.9940\n",
      "Epoch 17/20\n",
      "86/86 [==============================] - 47s 543ms/step - loss: 0.2684 - accuracy: 0.9134 - val_loss: 0.0323 - val_accuracy: 0.9951\n",
      "Epoch 18/20\n",
      "86/86 [==============================] - 42s 493ms/step - loss: 0.2521 - accuracy: 0.9189 - val_loss: 0.0300 - val_accuracy: 0.9947\n",
      "Epoch 19/20\n",
      "86/86 [==============================] - 50s 585ms/step - loss: 0.2410 - accuracy: 0.9244 - val_loss: 0.0222 - val_accuracy: 0.9956\n",
      "Epoch 20/20\n",
      "86/86 [==============================] - 50s 582ms/step - loss: 0.2233 - accuracy: 0.9291 - val_loss: 0.0174 - val_accuracy: 0.9987\n",
      "model7 accuracy =  0.97\n"
     ]
    }
   ],
   "source": [
    "#wywolanie modelu 7\n",
    "model7 = create_model(X_train, Y_train,[32, 64, 128], 0.5,[256,64],24, plot = False)\n",
    "\n",
    "#predykcja\n",
    "y_pred7 = model7.predict(X_test).argmax(axis = 1)\n",
    "\n",
    "acc7 = accuracy_score(y_pred7, Y_test.argmax(axis = 1))\n",
    "print('model7 accuracy = ', round(acc7,2))"
   ]
  },
  {
   "cell_type": "markdown",
   "id": "c95dbbd4",
   "metadata": {},
   "source": [
    "Podwyższony dropout i augmentacja danych nie podwyzszyła naszej osiaganego skutecznosci "
   ]
  },
  {
   "cell_type": "markdown",
   "id": "149dfa71",
   "metadata": {},
   "source": [
    "**Prezentacja wyników modeli w tensorboard**"
   ]
  },
  {
   "cell_type": "code",
   "execution_count": 43,
   "id": "354e53b1",
   "metadata": {},
   "outputs": [
    {
     "data": {
      "text/plain": [
       "Reusing TensorBoard on port 6006 (pid 160), started 1 day, 16:58:01 ago. (Use '!kill 160' to kill it.)"
      ]
     },
     "metadata": {},
     "output_type": "display_data"
    },
    {
     "data": {
      "text/html": [
       "\n",
       "      <iframe id=\"tensorboard-frame-a8e0ba4a878e1c12\" width=\"100%\" height=\"800\" frameborder=\"0\">\n",
       "      </iframe>\n",
       "      <script>\n",
       "        (function() {\n",
       "          const frame = document.getElementById(\"tensorboard-frame-a8e0ba4a878e1c12\");\n",
       "          const url = new URL(\"/\", window.location);\n",
       "          const port = 6006;\n",
       "          if (port) {\n",
       "            url.port = port;\n",
       "          }\n",
       "          frame.src = url;\n",
       "        })();\n",
       "      </script>\n",
       "    "
      ],
      "text/plain": [
       "<IPython.core.display.HTML object>"
      ]
     },
     "metadata": {},
     "output_type": "display_data"
    }
   ],
   "source": [
    "%reload_ext tensorboard\n",
    "%tensorboard --logdir \"logs\""
   ]
  },
  {
   "cell_type": "markdown",
   "id": "b1867166",
   "metadata": {},
   "source": [
    "**Zapiszmy nasz najlepszy model**"
   ]
  },
  {
   "cell_type": "code",
   "execution_count": 212,
   "id": "47577489",
   "metadata": {},
   "outputs": [],
   "source": [
    "#najlepszym modelem okazał się model4\n",
    "model4.save(\"model_dt/model_dt.h5\")\n"
   ]
  },
  {
   "cell_type": "code",
   "execution_count": 180,
   "id": "84b81825",
   "metadata": {},
   "outputs": [],
   "source": [
    "# w dokumentacji napisz jaki to data set, skad pochodzi, daj obrazek, ze nie wszystkie litery sa\n",
    "#dokumentacje po angielsku\n"
   ]
  }
 ],
 "metadata": {
  "kernelspec": {
   "display_name": "Python 3",
   "language": "python",
   "name": "python3"
  },
  "language_info": {
   "codemirror_mode": {
    "name": "ipython",
    "version": 3
   },
   "file_extension": ".py",
   "mimetype": "text/x-python",
   "name": "python",
   "nbconvert_exporter": "python",
   "pygments_lexer": "ipython3",
   "version": "3.8.8"
  }
 },
 "nbformat": 4,
 "nbformat_minor": 5
}
